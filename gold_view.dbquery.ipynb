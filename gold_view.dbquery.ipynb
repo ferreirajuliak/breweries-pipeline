{
 "cells": [
  {
   "cell_type": "code",
   "execution_count": 0,
   "metadata": {
    "application/vnd.databricks.v1+cell": {
     "cellMetadata": {
      "byteLimit": 10485760,
      "rowLimit": 1000
     },
     "inputWidgets": {},
     "nuid": "169491a4-57e7-4478-9e64-a422c4d8a1b7",
     "showTitle": false,
     "tableResultSettingsMap": {},
     "title": ""
    }
   },
   "outputs": [],
   "source": [
    "CREATE OR REPLACE VIEW `breweries-catalog`.gold_layer.breweries_gold AS\n",
    "SELECT\n",
    "    brewery_type,\n",
    "    state,\n",
    "    COUNT(*) AS brewery_count\n",
    "FROM\n",
    "    `breweries-catalog`.silver_layer.breweries_silver\n",
    "WHERE\n",
    "    processing_date = CURRENT_DATE()\n",
    "GROUP BY\n",
    "    brewery_type,\n",
    "    state;"
   ]
  }
 ],
 "metadata": {
  "application/vnd.databricks.v1+notebook": {
   "computePreferences": null,
   "dashboards": [],
   "environmentMetadata": null,
   "inputWidgetPreferences": null,
   "language": "sql",
   "notebookMetadata": {
    "sqlQueryOptions": {
     "applyAutoLimit": true,
     "catalog": "workspace",
     "schema": "default"
    }
   },
   "notebookName": "gold_view.dbquery.ipynb",
   "widgets": {}
  },
  "language_info": {
   "name": "sql"
  }
 },
 "nbformat": 4,
 "nbformat_minor": 0
}
