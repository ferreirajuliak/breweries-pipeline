{
 "cells": [
  {
   "cell_type": "code",
   "execution_count": 0,
   "metadata": {
    "application/vnd.databricks.v1+cell": {
     "cellMetadata": {
      "byteLimit": 2048000,
      "implicitDf": true,
      "rowLimit": 10000
     },
     "inputWidgets": {},
     "nuid": "b9cc2709-5bd8-4be6-bc53-bfed5bdf5ea9",
     "showTitle": false,
     "tableResultSettingsMap": {},
     "title": ""
    }
   },
   "outputs": [],
   "source": [
    "%sql\n",
    "--Create schema\n",
    "CREATE SCHEMA IF NOT EXISTS `breweries-catalog`.gold_layer;"
   ]
  },
  {
   "cell_type": "code",
   "execution_count": 0,
   "metadata": {
    "application/vnd.databricks.v1+cell": {
     "cellMetadata": {
      "byteLimit": 2048000,
      "rowLimit": 10000
     },
     "inputWidgets": {},
     "nuid": "0a67b394-1370-4be7-9ea6-4badc583538c",
     "showTitle": false,
     "tableResultSettingsMap": {},
     "title": ""
    }
   },
   "outputs": [],
   "source": [
    "from pyspark.sql import functions as F\n",
    "\n",
    "#Read silver table\n",
    "df_silver = spark.read.table(\"`breweries-catalog`.silver_layer.breweries_silver\")\n",
    "\n",
    "#Aggregate\n",
    "df_gold = df_silver.filter(F.col(\"processing_date\") == F.current_date()).groupBy(\"brewery_type\", \"state\").agg(\n",
    "    F.count(\"*\").alias(\"brewery_count\")\n",
    ")"
   ]
  },
  {
   "cell_type": "code",
   "execution_count": 0,
   "metadata": {
    "application/vnd.databricks.v1+cell": {
     "cellMetadata": {
      "byteLimit": 2048000,
      "rowLimit": 10000
     },
     "inputWidgets": {},
     "nuid": "74517715-aa86-4888-a6d1-e87ffc192caa",
     "showTitle": false,
     "tableResultSettingsMap": {},
     "title": ""
    }
   },
   "outputs": [],
   "source": [
    "#DQ\n",
    "\n",
    "if df_gold.count() == 0:\n",
    "    raise Exception(\"Data Quality Check Failed: Gold Table is empty\")\n",
    "\n",
    "null_columns = [c for c in df_gold.columns if df_gold.filter(F.col(c).isNull()).count() > 0]\n",
    "if null_columns:\n",
    "    raise Exception(f\"Data Quality Check Failed: Null values found in columns: {null_columns}\")\n",
    "\n",
    "# DQ Log\n",
    "null_counts = df_gold.select([\n",
    "    F.count(F.when(F.col(c).isNull(), c)).alias(c) for c in df_gold.columns\n",
    "])\n",
    "df_gold_dq = null_counts.withColumn(\"dq_layer\", F.lit(\"gold\")) \\\n",
    "                   .withColumn(\"ingestion_timestamp\", F.current_timestamp())\n",
    "\n",
    "# Salvar informações na tabela de dq\n",
    "df_gold_dq.write.mode(\"append\").format(\"delta\").saveAsTable(\"`breweries-catalog`.gold_layer.breweries_dq\")"
   ]
  },
  {
   "cell_type": "code",
   "execution_count": 0,
   "metadata": {
    "application/vnd.databricks.v1+cell": {
     "cellMetadata": {
      "byteLimit": 2048000,
      "rowLimit": 10000
     },
     "inputWidgets": {},
     "nuid": "b31971fd-e5f1-42bf-8300-1152dcf797ab",
     "showTitle": false,
     "tableResultSettingsMap": {},
     "title": ""
    }
   },
   "outputs": [],
   "source": [
    "# Write table\n",
    "df_gold.write \\\n",
    "    .format(\"delta\") \\\n",
    "    .mode(\"overwrite\") \\\n",
    "    .saveAsTable(\"`breweries-pipeline-data-catalog`.gold_layer.breweries_gold\")"
   ]
  },
  {
   "cell_type": "code",
   "execution_count": 0,
   "metadata": {
    "application/vnd.databricks.v1+cell": {
     "cellMetadata": {
      "byteLimit": 2048000,
      "rowLimit": 10000
     },
     "inputWidgets": {},
     "nuid": "f01b43f5-0641-4ce9-9958-22b2e7587e1f",
     "showTitle": false,
     "tableResultSettingsMap": {},
     "title": ""
    }
   },
   "outputs": [],
   "source": [
    "# df_bronze = spark.read.table(\"`breweries-pipeline-data-catalog`.bronze_layer.breweries_bronze\")\n",
    "\n",
    "# df_bronze_agg = df_bronze.groupBy(\"brewery_type\", \"state\").agg(\n",
    "#     F.count(\"*\").alias(\"bronze_brewery_count\")\n",
    "# )\n",
    "\n",
    "# df_gold = spark.read.table(\"`breweries-pipeline-data-catalog`.gold_layer.breweries_gold\")\n",
    "\n",
    "# df_comparison = df_bronze_agg.join(\n",
    "#     df_gold,\n",
    "#     on=[\"brewery_type\", \"state\"],\n",
    "#     how=\"outer\"\n",
    "# ).select(\n",
    "#     \"brewery_type\",\n",
    "#     \"state\",\n",
    "#     \"bronze_brewery_count\",\n",
    "#     F.col(\"brewery_count\").alias(\"gold_brewery_count\")\n",
    "# )\n",
    "\n",
    "# display(df_comparison)"
   ]
  }
 ],
 "metadata": {
  "application/vnd.databricks.v1+notebook": {
   "computePreferences": null,
   "dashboards": [],
   "environmentMetadata": {
    "base_environment": "",
    "environment_version": "3"
   },
   "inputWidgetPreferences": null,
   "language": "python",
   "notebookMetadata": {
    "mostRecentlyExecutedCommandWithImplicitDF": {
     "commandId": 7189610588681201,
     "dataframes": [
      "_sqldf"
     ]
    },
    "pythonIndentUnit": 4
   },
   "notebookName": "gold_aggregate",
   "widgets": {}
  },
  "language_info": {
   "name": "python"
  }
 },
 "nbformat": 4,
 "nbformat_minor": 0
}
