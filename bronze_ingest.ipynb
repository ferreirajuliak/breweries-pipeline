{
 "cells": [
  {
   "cell_type": "code",
   "execution_count": 0,
   "metadata": {
    "application/vnd.databricks.v1+cell": {
     "cellMetadata": {
      "byteLimit": 2048000,
      "implicitDf": true,
      "rowLimit": 10000
     },
     "inputWidgets": {},
     "nuid": "ebb6f1dd-b622-44fb-ab8a-9031c37dd783",
     "showTitle": false,
     "tableResultSettingsMap": {},
     "title": ""
    }
   },
   "outputs": [],
   "source": [
    "%sql\n",
    "CREATE CATALOG IF NOT EXISTS `breweries-pipeline-data-catalog`;\n",
    "--Create schema\n",
    "CREATE SCHEMA IF NOT EXISTS `breweries-pipeline-data-catalog`.bronze_layer;"
   ]
  },
  {
   "cell_type": "code",
   "execution_count": 0,
   "metadata": {
    "application/vnd.databricks.v1+cell": {
     "cellMetadata": {
      "byteLimit": 2048000,
      "rowLimit": 10000
     },
     "inputWidgets": {},
     "nuid": "5f3f60ba-8b85-46f8-8c4b-ac0b35c8419d",
     "showTitle": false,
     "tableResultSettingsMap": {},
     "title": ""
    }
   },
   "outputs": [],
   "source": [
    "import requests\n",
    "from pyspark.sql.types import (\n",
    "    StructType,\n",
    "    StructField,\n",
    "    StringType,\n",
    "    DoubleType,\n",
    "    IntegerType\n",
    ")\n",
    "import pyspark.sql.functions as F\n",
    "\n",
    "#Get data from API\n",
    "api_url = \"https://api.openbrewerydb.org/v1/breweries\"\n",
    "resp = requests.get(api_url)\n",
    "# Raises an HTTPError if the HTTP request returned an unsuccessful status code\n",
    "resp.raise_for_status()\n",
    "data = resp.json()\n",
    "\n",
    "#Define schema based on API fields\n",
    "schema = StructType([\n",
    "    StructField(\"id\", StringType(), False),\n",
    "    StructField(\"name\", StringType(), False),\n",
    "    StructField(\"brewery_type\", StringType(), False),\n",
    "    StructField(\"address_1\", StringType(), True),\n",
    "    StructField(\"address_2\", StringType(), True),\n",
    "    StructField(\"address_3\", StringType(), True),\n",
    "    StructField(\"city\", StringType(), False),\n",
    "    StructField(\"state_province\", StringType(), True),\n",
    "    StructField(\"postal_code\", StringType(), True),\n",
    "    StructField(\"country\", StringType(), False),\n",
    "    StructField(\"longitude\", StringType(), True),\n",
    "    StructField(\"latitude\", StringType(), True),\n",
    "    StructField(\"phone\", StringType(), True),\n",
    "    StructField(\"website_url\", StringType(), True),\n",
    "    StructField(\"state\", StringType(), False),\n",
    "    StructField(\"street\", StringType(), True)\n",
    "])\n",
    "\n",
    "# Create Dataframe\n",
    "df_bronze = spark.createDataFrame(data, schema=schema)\n",
    "\n",
    "# Add ingestion timestamp column\n",
    "df_bronze = df_bronze.withColumn(\"ingestion_timestamp\", F.current_timestamp())"
   ]
  },
  {
   "cell_type": "code",
   "execution_count": 0,
   "metadata": {
    "application/vnd.databricks.v1+cell": {
     "cellMetadata": {
      "byteLimit": 2048000,
      "rowLimit": 10000
     },
     "inputWidgets": {},
     "nuid": "527c5497-5c15-4148-90a1-337b00584b2a",
     "showTitle": false,
     "tableResultSettingsMap": {},
     "title": ""
    }
   },
   "outputs": [],
   "source": [
    "#DQ\n",
    "if df_bronze.count() == 0:\n",
    "    raise Exception(\"Data Quality Check Failed: Bronze Table is empty\")\n",
    "\n",
    "not_null_columns = [field.name for field in df_bronze.schema.fields if not field.nullable]\n",
    "null_not_allowed = [c for c in not_null_columns if df_bronze.filter(F.col(c).isNull()).count() > 0]\n",
    "if null_not_allowed:\n",
    "    raise Exception(f\"Data Quality Check Failed: Null values found in NOT NULL columns: {null_not_allowed}\")\n",
    "\n",
    "# Show a sample of the transformed data\n",
    "display(df_bronze.limit(5))"
   ]
  },
  {
   "cell_type": "code",
   "execution_count": 0,
   "metadata": {
    "application/vnd.databricks.v1+cell": {
     "cellMetadata": {
      "byteLimit": 2048000,
      "rowLimit": 10000
     },
     "inputWidgets": {},
     "nuid": "b1b1f7e0-8650-4fa8-9aea-6c9e9e4b7e3a",
     "showTitle": false,
     "tableResultSettingsMap": {},
     "title": ""
    }
   },
   "outputs": [],
   "source": [
    "# Write table\n",
    "df_bronze.write \\\n",
    "  .format(\"delta\") \\\n",
    "  .mode(\"overwrite\") \\\n",
    "  .saveAsTable(\"`breweries-pipeline-data-catalog`.bronze_layer.breweries_bronze\")"
   ]
  }
 ],
 "metadata": {
  "application/vnd.databricks.v1+notebook": {
   "computePreferences": {
    "hardware": {
     "accelerator": null,
     "gpuPoolId": null,
     "memory": null
    }
   },
   "dashboards": [],
   "environmentMetadata": {
    "base_environment": "",
    "environment_version": "3"
   },
   "inputWidgetPreferences": null,
   "language": "python",
   "notebookMetadata": {
    "mostRecentlyExecutedCommandWithImplicitDF": {
     "commandId": 7189610588680813,
     "dataframes": [
      "_sqldf"
     ]
    },
    "pythonIndentUnit": 4
   },
   "notebookName": "bronze_ingest",
   "widgets": {}
  },
  "language_info": {
   "name": "python"
  }
 },
 "nbformat": 4,
 "nbformat_minor": 0
}
