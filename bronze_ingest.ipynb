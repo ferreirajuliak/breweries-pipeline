{
 "cells": [
  {
   "cell_type": "code",
   "execution_count": 0,
   "metadata": {
    "application/vnd.databricks.v1+cell": {
     "cellMetadata": {
      "byteLimit": 2048000,
      "implicitDf": true,
      "rowLimit": 10000
     },
     "inputWidgets": {},
     "nuid": "ebb6f1dd-b622-44fb-ab8a-9031c37dd783",
     "showTitle": false,
     "tableResultSettingsMap": {},
     "title": ""
    }
   },
   "outputs": [],
   "source": [
    "%sql\n",
    "CREATE CATALOG IF NOT EXISTS `breweries-catalog`;\n",
    "--Create schema\n",
    "CREATE SCHEMA IF NOT EXISTS `breweries-catalog`.bronze_layer;"
   ]
  },
  {
   "cell_type": "code",
   "execution_count": 0,
   "metadata": {
    "application/vnd.databricks.v1+cell": {
     "cellMetadata": {
      "byteLimit": 2048000,
      "rowLimit": 10000
     },
     "inputWidgets": {},
     "nuid": "5f3f60ba-8b85-46f8-8c4b-ac0b35c8419d",
     "showTitle": false,
     "tableResultSettingsMap": {},
     "title": ""
    }
   },
   "outputs": [],
   "source": [
    "import requests\n",
    "import time\n",
    "from pyspark.sql.types import (\n",
    "    StructType,\n",
    "    StructField,\n",
    "    StringType\n",
    ")\n",
    "import pyspark.sql.functions as F\n",
    "\n",
    "# Define schema based on API fields\n",
    "schema = StructType([\n",
    "    StructField(\"id\", StringType(), False),\n",
    "    StructField(\"name\", StringType(), False),\n",
    "    StructField(\"brewery_type\", StringType(), False),\n",
    "    StructField(\"address_1\", StringType(), True),\n",
    "    StructField(\"address_2\", StringType(), True),\n",
    "    StructField(\"address_3\", StringType(), True),\n",
    "    StructField(\"city\", StringType(), False),\n",
    "    StructField(\"state_province\", StringType(), True),\n",
    "    StructField(\"postal_code\", StringType(), True),\n",
    "    StructField(\"country\", StringType(), False),\n",
    "    StructField(\"longitude\", StringType(), True),\n",
    "    StructField(\"latitude\", StringType(), True),\n",
    "    StructField(\"phone\", StringType(), True),\n",
    "    StructField(\"website_url\", StringType(), True),\n",
    "    StructField(\"state\", StringType(), False),\n",
    "    StructField(\"street\", StringType(), True)\n",
    "])\n",
    "\n",
    "# Get data from API with pagination and rate limit handling\n",
    "api_url = \"https://api.openbrewerydb.org/v1/breweries\"\n",
    "all_data = []\n",
    "page = 1\n",
    "per_page = 50\n",
    "\n",
    "while True:\n",
    "    try:\n",
    "        resp = requests.get(\n",
    "            api_url,\n",
    "            params={\"page\": page, \"per_page\": per_page}\n",
    "        )\n",
    "        if resp.status_code == 429:\n",
    "            time.sleep(2)  # Wait before retrying\n",
    "            continue\n",
    "        resp.raise_for_status()\n",
    "        page_data = resp.json()\n",
    "        if not page_data:\n",
    "            break\n",
    "        all_data.extend(page_data)\n",
    "        page += 1\n",
    "        time.sleep(0.5)  # Be nice to the API\n",
    "    except requests.exceptions.HTTPError as e:\n",
    "        print(f\"HTTP error: {e}\")\n",
    "        break\n",
    "\n",
    "# Create DataFrame\n",
    "df_bronze = spark.createDataFrame(all_data, schema=schema)\n",
    "\n",
    "# Add ingestion timestamp column\n",
    "df_bronze = df_bronze.withColumn(\n",
    "    \"ingestion_timestamp\",\n",
    "    F.current_timestamp()\n",
    ")"
   ]
  },
  {
   "cell_type": "code",
   "execution_count": 0,
   "metadata": {
    "application/vnd.databricks.v1+cell": {
     "cellMetadata": {
      "byteLimit": 2048000,
      "rowLimit": 10000
     },
     "inputWidgets": {},
     "nuid": "527c5497-5c15-4148-90a1-337b00584b2a",
     "showTitle": false,
     "tableResultSettingsMap": {},
     "title": ""
    }
   },
   "outputs": [],
   "source": [
    "#DQ\n",
    "if df_bronze.count() == 0:\n",
    "    raise Exception(\"Data Quality Check Failed: Bronze Table is empty\")\n",
    "\n",
    "not_null_columns = [field.name for field in df_bronze.schema.fields if not field.nullable]\n",
    "null_not_allowed = [c for c in not_null_columns if df_bronze.filter(F.col(c).isNull()).count() > 0]\n",
    "if null_not_allowed:\n",
    "    raise Exception(f\"Data Quality Check Failed: Null values found in NOT NULL columns: {null_not_allowed}\")\n",
    "\n",
    "# DQ Log\n",
    "null_counts = df_bronze.select([\n",
    "    F.count(F.when(F.col(c).isNull(), c)).alias(c) for c in df_bronze.columns\n",
    "])\n",
    "df_bronze_dq = null_counts.withColumn(\"dq_layer\", F.lit(\"bronze\")) \\\n",
    "                   .withColumn(\"ingestion_timestamp\", F.current_timestamp())\n",
    "\n",
    "# Salvar informações na tabela de dq\n",
    "df_bronze_dq.write.mode(\"append\").format(\"delta\").saveAsTable(\"`breweries-catalog`.bronze_layer.breweries_dq\")"
   ]
  },
  {
   "cell_type": "code",
   "execution_count": 0,
   "metadata": {
    "application/vnd.databricks.v1+cell": {
     "cellMetadata": {
      "byteLimit": 2048000,
      "rowLimit": 10000
     },
     "inputWidgets": {},
     "nuid": "b1b1f7e0-8650-4fa8-9aea-6c9e9e4b7e3a",
     "showTitle": false,
     "tableResultSettingsMap": {},
     "title": ""
    }
   },
   "outputs": [],
   "source": [
    "# Write table\n",
    "df_bronze.write \\\n",
    "  .format(\"delta\") \\\n",
    "  .mode(\"append\") \\\n",
    "  .saveAsTable(\"`breweries-pipeline-data-catalog`.bronze_layer.breweries_bronze\")"
   ]
  }
 ],
 "metadata": {
  "application/vnd.databricks.v1+notebook": {
   "computePreferences": {
    "hardware": {
     "accelerator": null,
     "gpuPoolId": null,
     "memory": null
    }
   },
   "dashboards": [],
   "environmentMetadata": {
    "base_environment": "",
    "environment_version": "3"
   },
   "inputWidgetPreferences": null,
   "language": "python",
   "notebookMetadata": {
    "mostRecentlyExecutedCommandWithImplicitDF": {
     "commandId": 7189610588680813,
     "dataframes": [
      "_sqldf"
     ]
    },
    "pythonIndentUnit": 4
   },
   "notebookName": "bronze_ingest",
   "widgets": {}
  },
  "language_info": {
   "name": "python"
  }
 },
 "nbformat": 4,
 "nbformat_minor": 0
}
