{
 "cells": [
  {
   "cell_type": "code",
   "execution_count": 0,
   "metadata": {
    "application/vnd.databricks.v1+cell": {
     "cellMetadata": {
      "byteLimit": 2048000,
      "implicitDf": true,
      "rowLimit": 10000
     },
     "inputWidgets": {},
     "nuid": "6f17fa30-c4b8-40c9-b3e3-e929b339d2c2",
     "showTitle": false,
     "tableResultSettingsMap": {},
     "title": ""
    }
   },
   "outputs": [],
   "source": [
    "%sql\n",
    "--Create schema\n",
    "CREATE SCHEMA IF NOT EXISTS `breweries-catalog`.silver_layer;"
   ]
  },
  {
   "cell_type": "code",
   "execution_count": 0,
   "metadata": {
    "application/vnd.databricks.v1+cell": {
     "cellMetadata": {
      "byteLimit": 2048000,
      "rowLimit": 10000
     },
     "inputWidgets": {},
     "nuid": "3737058e-991f-48b8-a9fe-3577452a5d2f",
     "showTitle": false,
     "tableResultSettingsMap": {},
     "title": ""
    }
   },
   "outputs": [],
   "source": [
    "from pyspark.sql import functions as F\n",
    "\n",
    "#Read bronze table\n",
    "df_bronze = spark.read.table(\"`breweries-catalog`.bronze_layer.breweries_bronze\")"
   ]
  },
  {
   "cell_type": "code",
   "execution_count": 0,
   "metadata": {
    "application/vnd.databricks.v1+cell": {
     "cellMetadata": {
      "byteLimit": 2048000,
      "rowLimit": 10000
     },
     "inputWidgets": {},
     "nuid": "b30e0695-60ea-4ad4-bc79-32aabc44c19a",
     "showTitle": false,
     "tableResultSettingsMap": {},
     "title": ""
    }
   },
   "outputs": [],
   "source": [
    "# Select relevant fields\n",
    "df_silver = (\n",
    "    df_bronze\n",
    "    .select(\n",
    "        F.col(\"id\").cast(\"string\"),\n",
    "        F.col(\"name\"),\n",
    "        F.col(\"brewery_type\"),\n",
    "        F.col(\"city\"),\n",
    "        F.col(\"state\"),\n",
    "        F.col(\"country\"),\n",
    "    )\n",
    "# Normalize string fields\n",
    "    .withColumn(\"name\", F.lower(F.trim(F.col(\"name\"))))\n",
    "    .withColumn(\"brewery_type\", F.lower(F.trim(F.col(\"brewery_type\"))))\n",
    "    .withColumn(\"city\", F.lower(F.trim(F.col(\"city\"))))\n",
    "    .withColumn(\"state\", F.lower(F.trim(F.col(\"state\")))) \n",
    "    .withColumn(\"country\", F.lower(F.trim(F.col(\"country\"))))\n",
    "# Add current date as processing_date\n",
    "    .withColumn(\"processing_date\", F.current_date())\n",
    "# Filter out rows missing location\n",
    "    .filter(F.col(\"country\").isNotNull())\n",
    "# Drop any duplicates\n",
    "    .dropDuplicates([\"id\"])\n",
    ")"
   ]
  },
  {
   "cell_type": "code",
   "execution_count": 0,
   "metadata": {
    "application/vnd.databricks.v1+cell": {
     "cellMetadata": {
      "byteLimit": 2048000,
      "rowLimit": 10000
     },
     "inputWidgets": {},
     "nuid": "8fe72d3f-9665-459e-9581-394c428eabd0",
     "showTitle": false,
     "tableResultSettingsMap": {},
     "title": ""
    }
   },
   "outputs": [],
   "source": [
    "#DQ\n",
    "if df_silver.count() == 0:\n",
    "    raise Exception(\"Data Quality Check Failed: Silver Table is empty\")\n",
    "\n",
    "null_columns = [c for c in df_silver.columns if df_silver.filter(F.col(c).isNull()).count() > 0]\n",
    "if null_columns:\n",
    "    raise Exception(f\"Data Quality Check Failed: Null values found in columns: {null_columns}\")\n",
    "\n",
    "# DQ Log\n",
    "null_counts = df_silver.select([\n",
    "    F.count(F.when(F.col(c).isNull(), c)).alias(c) for c in df_silver.columns\n",
    "])\n",
    "df_silver_dq = null_counts.withColumn(\"dq_layer\", F.lit(\"silver\")) \\\n",
    "                   .withColumn(\"ingestion_timestamp\", F.current_timestamp())\n",
    "\n",
    "# Salvar informações na tabela de dq\n",
    "df_silver_dq.write.mode(\"append\").format(\"delta\").saveAsTable(\"`breweries-catalog`.silver_layer.breweries_dq\")"
   ]
  },
  {
   "cell_type": "code",
   "execution_count": 0,
   "metadata": {
    "application/vnd.databricks.v1+cell": {
     "cellMetadata": {
      "byteLimit": 2048000,
      "rowLimit": 10000
     },
     "inputWidgets": {},
     "nuid": "cd03b095-1b40-4c48-9f85-ce71b03972f0",
     "showTitle": false,
     "tableResultSettingsMap": {},
     "title": ""
    }
   },
   "outputs": [],
   "source": [
    "# Write the DataFrame with the desired partitioning\n",
    "df_silver.write \\\n",
    "    .format(\"delta\") \\\n",
    "    .mode(\"append\") \\\n",
    "    .partitionBy(\"country\") \\\n",
    "    .option(\"mergeSchema\", \"true\") \\\n",
    "    .saveAsTable(\"`breweries-catalog`.silver_layer.breweries_silver\")"
   ]
  }
 ],
 "metadata": {
  "application/vnd.databricks.v1+notebook": {
   "computePreferences": {
    "hardware": {
     "accelerator": null,
     "gpuPoolId": null,
     "memory": null
    }
   },
   "dashboards": [],
   "environmentMetadata": {
    "base_environment": "",
    "environment_version": "3"
   },
   "inputWidgetPreferences": null,
   "language": "python",
   "notebookMetadata": {
    "mostRecentlyExecutedCommandWithImplicitDF": {
     "commandId": 7189610588681175,
     "dataframes": [
      "_sqldf"
     ]
    },
    "pythonIndentUnit": 4
   },
   "notebookName": "silver_transform",
   "widgets": {}
  },
  "language_info": {
   "name": "python"
  }
 },
 "nbformat": 4,
 "nbformat_minor": 0
}
