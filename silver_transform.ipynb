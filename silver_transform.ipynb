{
 "cells": [
  {
   "cell_type": "code",
   "execution_count": 0,
   "metadata": {
    "application/vnd.databricks.v1+cell": {
     "cellMetadata": {
      "byteLimit": 2048000,
      "implicitDf": true,
      "rowLimit": 10000
     },
     "inputWidgets": {},
     "nuid": "6f17fa30-c4b8-40c9-b3e3-e929b339d2c2",
     "showTitle": false,
     "tableResultSettingsMap": {},
     "title": ""
    }
   },
   "outputs": [],
   "source": [
    "%sql\n",
    "--Create schema\n",
    "CREATE SCHEMA IF NOT EXISTS `breweries-pipeline-data-catalog`.silver_layer;"
   ]
  },
  {
   "cell_type": "code",
   "execution_count": 0,
   "metadata": {
    "application/vnd.databricks.v1+cell": {
     "cellMetadata": {
      "byteLimit": 2048000,
      "rowLimit": 10000
     },
     "inputWidgets": {},
     "nuid": "3737058e-991f-48b8-a9fe-3577452a5d2f",
     "showTitle": false,
     "tableResultSettingsMap": {},
     "title": ""
    }
   },
   "outputs": [],
   "source": [
    "from pyspark.sql import functions as F\n",
    "\n",
    "#Read bronze table\n",
    "df_bronze = spark.read.table(\"`breweries-pipeline-data-catalog`.bronze_layer.breweries_bronze\")\n",
    "\n",
    "#display(df_bronze.limit(5))"
   ]
  },
  {
   "cell_type": "code",
   "execution_count": 0,
   "metadata": {
    "application/vnd.databricks.v1+cell": {
     "cellMetadata": {
      "byteLimit": 2048000,
      "rowLimit": 10000
     },
     "inputWidgets": {},
     "nuid": "2e32fd18-6e84-45cb-9b27-3544becdcbed",
     "showTitle": false,
     "tableResultSettingsMap": {},
     "title": ""
    }
   },
   "outputs": [],
   "source": [
    "#Define best course of partitioning\n",
    "#display(df_bronze.select(\"country\").distinct().count())"
   ]
  },
  {
   "cell_type": "code",
   "execution_count": 0,
   "metadata": {
    "application/vnd.databricks.v1+cell": {
     "cellMetadata": {
      "byteLimit": 2048000,
      "rowLimit": 10000
     },
     "inputWidgets": {},
     "nuid": "b30e0695-60ea-4ad4-bc79-32aabc44c19a",
     "showTitle": false,
     "tableResultSettingsMap": {},
     "title": ""
    }
   },
   "outputs": [],
   "source": [
    "# Select relevant fields\n",
    "df_silver = (\n",
    "    df_bronze\n",
    "    .select(\n",
    "        F.col(\"id\").cast(\"string\"),\n",
    "        F.col(\"name\"),\n",
    "        F.col(\"brewery_type\"),\n",
    "        F.col(\"city\"),\n",
    "        F.col(\"state\"),\n",
    "        F.col(\"country\"),\n",
    "        F.col(\"ingestion_timestamp\")\n",
    "    )\n",
    "# Filter out rows missing location\n",
    ".filter(F.col(\"state\").isNotNull())\n",
    "# Drop any duplicates\n",
    ".dropDuplicates([\"id\"])\n",
    ")"
   ]
  },
  {
   "cell_type": "code",
   "execution_count": 0,
   "metadata": {
    "application/vnd.databricks.v1+cell": {
     "cellMetadata": {
      "byteLimit": 2048000,
      "rowLimit": 10000
     },
     "inputWidgets": {},
     "nuid": "8fe72d3f-9665-459e-9581-394c428eabd0",
     "showTitle": false,
     "tableResultSettingsMap": {},
     "title": ""
    }
   },
   "outputs": [],
   "source": [
    "#DQ\n",
    "if df_silver.count() == 0:\n",
    "    raise Exception(\"Data Quality Check Failed: Silver Table is empty\")\n",
    "\n",
    "null_columns = [c for c in df_silver.columns if df_silver.filter(F.col(c).isNull()).count() > 0]\n",
    "if null_columns:\n",
    "    raise Exception(f\"Data Quality Check Failed: Null values found in columns: {null_columns}\")\n",
    "\n",
    "# Show a sample of the transformed data\n",
    "#display(df_silver.limit(5))"
   ]
  },
  {
   "cell_type": "code",
   "execution_count": 0,
   "metadata": {
    "application/vnd.databricks.v1+cell": {
     "cellMetadata": {
      "byteLimit": 2048000,
      "rowLimit": 10000
     },
     "inputWidgets": {},
     "nuid": "cd03b095-1b40-4c48-9f85-ce71b03972f0",
     "showTitle": false,
     "tableResultSettingsMap": {},
     "title": ""
    }
   },
   "outputs": [],
   "source": [
    "# Write the DataFrame with the desired partitioning\n",
    "df_silver.write \\\n",
    "    .format(\"delta\") \\\n",
    "    .mode(\"overwrite\") \\\n",
    "    .partitionBy(\"state\") \\\n",
    "    .saveAsTable(\"`breweries-pipeline-data-catalog`.silver_layer.breweries_silver\")"
   ]
  }
 ],
 "metadata": {
  "application/vnd.databricks.v1+notebook": {
   "computePreferences": {
    "hardware": {
     "accelerator": null,
     "gpuPoolId": null,
     "memory": null
    }
   },
   "dashboards": [],
   "environmentMetadata": {
    "base_environment": "",
    "environment_version": "3"
   },
   "inputWidgetPreferences": null,
   "language": "python",
   "notebookMetadata": {
    "mostRecentlyExecutedCommandWithImplicitDF": {
     "commandId": 7189610588681175,
     "dataframes": [
      "_sqldf"
     ]
    },
    "pythonIndentUnit": 4
   },
   "notebookName": "silver_transform",
   "widgets": {}
  },
  "language_info": {
   "name": "python"
  }
 },
 "nbformat": 4,
 "nbformat_minor": 0
}
